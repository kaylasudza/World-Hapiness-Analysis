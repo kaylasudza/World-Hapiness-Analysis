{
  "cells": [
    {
      "cell_type": "code",
      "execution_count": 11,
      "metadata": {
        "colab": {
          "base_uri": "https://localhost:8080/",
          "height": 619
        },
        "id": "IIq9BBKaarEM",
        "outputId": "35bfb5ec-c5e1-4ab7-d6b5-a116264f4a40"
      },
      "outputs": [
        {
          "output_type": "stream",
          "name": "stderr",
          "text": [
            "Installing package into ‘/usr/local/lib/R/site-library’\n",
            "(as ‘lib’ is unspecified)\n",
            "\n",
            "Classes and Methods for R developed in the\n",
            "Political Science Computational Laboratory\n",
            "Department of Political Science\n",
            "Stanford University\n",
            "Simon Jackman\n",
            "hurdle and zeroinfl functions by Achim Zeileis\n",
            "\n",
            "\u001b[1mRows: \u001b[22m\u001b[34m792\u001b[39m \u001b[1mColumns: \u001b[22m\u001b[34m13\u001b[39m\n",
            "\u001b[36m──\u001b[39m \u001b[1mColumn specification\u001b[22m \u001b[36m────────────────────────────────────────────────────────\u001b[39m\n",
            "\u001b[1mDelimiter:\u001b[22m \",\"\n",
            "\u001b[31mchr\u001b[39m  (2): Country, continent\n",
            "\u001b[32mdbl\u001b[39m (11): happiness_score, gdp_per_capita, family, health, freedom, generosi...\n",
            "\n",
            "\u001b[36mℹ\u001b[39m Use `spec()` to retrieve the full column specification for this data.\n",
            "\u001b[36mℹ\u001b[39m Specify the column types or set `show_col_types = FALSE` to quiet this message.\n"
          ]
        },
        {
          "output_type": "display_data",
          "data": {
            "text/html": [
              "<table class=\"dataframe\">\n",
              "<caption>A tibble: 6 × 13</caption>\n",
              "<thead>\n",
              "\t<tr><th scope=col>Country</th><th scope=col>happiness_score</th><th scope=col>gdp_per_capita</th><th scope=col>family</th><th scope=col>health</th><th scope=col>freedom</th><th scope=col>generosity</th><th scope=col>government_trust</th><th scope=col>dystopia_residual</th><th scope=col>continent</th><th scope=col>Year</th><th scope=col>social_support</th><th scope=col>cpi_score</th></tr>\n",
              "\t<tr><th scope=col>&lt;chr&gt;</th><th scope=col>&lt;dbl&gt;</th><th scope=col>&lt;dbl&gt;</th><th scope=col>&lt;dbl&gt;</th><th scope=col>&lt;dbl&gt;</th><th scope=col>&lt;dbl&gt;</th><th scope=col>&lt;dbl&gt;</th><th scope=col>&lt;dbl&gt;</th><th scope=col>&lt;dbl&gt;</th><th scope=col>&lt;chr&gt;</th><th scope=col>&lt;dbl&gt;</th><th scope=col>&lt;dbl&gt;</th><th scope=col>&lt;dbl&gt;</th></tr>\n",
              "</thead>\n",
              "<tbody>\n",
              "\t<tr><td>Norway     </td><td>7.537</td><td>1.616463</td><td>1.533524</td><td>0.7966665</td><td>0.6354226</td><td>0.3620122</td><td>0.3159638</td><td>2.277027</td><td>Europe</td><td>2015</td><td>0</td><td>88</td></tr>\n",
              "\t<tr><td>Denmark    </td><td>7.522</td><td>1.482383</td><td>1.551122</td><td>0.7925655</td><td>0.6260067</td><td>0.3552805</td><td>0.4007701</td><td>2.313707</td><td>Europe</td><td>2015</td><td>0</td><td>91</td></tr>\n",
              "\t<tr><td>Iceland    </td><td>7.504</td><td>1.480633</td><td>1.610574</td><td>0.8335521</td><td>0.6271626</td><td>0.4755402</td><td>0.1535266</td><td>2.322715</td><td>Europe</td><td>2015</td><td>0</td><td>79</td></tr>\n",
              "\t<tr><td>Switzerland</td><td>7.494</td><td>1.564980</td><td>1.516912</td><td>0.8581313</td><td>0.6200706</td><td>0.2905493</td><td>0.3670073</td><td>2.276716</td><td>Europe</td><td>2015</td><td>0</td><td>86</td></tr>\n",
              "\t<tr><td>Finland    </td><td>7.469</td><td>1.443572</td><td>1.540247</td><td>0.8091577</td><td>0.6179509</td><td>0.2454828</td><td>0.3826115</td><td>2.430182</td><td>Europe</td><td>2015</td><td>0</td><td>90</td></tr>\n",
              "\t<tr><td>Netherlands</td><td>7.377</td><td>1.503945</td><td>1.428939</td><td>0.8106961</td><td>0.5853845</td><td>0.4704898</td><td>0.2826618</td><td>2.294804</td><td>Europe</td><td>2015</td><td>0</td><td>84</td></tr>\n",
              "</tbody>\n",
              "</table>\n"
            ],
            "text/markdown": "\nA tibble: 6 × 13\n\n| Country &lt;chr&gt; | happiness_score &lt;dbl&gt; | gdp_per_capita &lt;dbl&gt; | family &lt;dbl&gt; | health &lt;dbl&gt; | freedom &lt;dbl&gt; | generosity &lt;dbl&gt; | government_trust &lt;dbl&gt; | dystopia_residual &lt;dbl&gt; | continent &lt;chr&gt; | Year &lt;dbl&gt; | social_support &lt;dbl&gt; | cpi_score &lt;dbl&gt; |\n|---|---|---|---|---|---|---|---|---|---|---|---|---|\n| Norway      | 7.537 | 1.616463 | 1.533524 | 0.7966665 | 0.6354226 | 0.3620122 | 0.3159638 | 2.277027 | Europe | 2015 | 0 | 88 |\n| Denmark     | 7.522 | 1.482383 | 1.551122 | 0.7925655 | 0.6260067 | 0.3552805 | 0.4007701 | 2.313707 | Europe | 2015 | 0 | 91 |\n| Iceland     | 7.504 | 1.480633 | 1.610574 | 0.8335521 | 0.6271626 | 0.4755402 | 0.1535266 | 2.322715 | Europe | 2015 | 0 | 79 |\n| Switzerland | 7.494 | 1.564980 | 1.516912 | 0.8581313 | 0.6200706 | 0.2905493 | 0.3670073 | 2.276716 | Europe | 2015 | 0 | 86 |\n| Finland     | 7.469 | 1.443572 | 1.540247 | 0.8091577 | 0.6179509 | 0.2454828 | 0.3826115 | 2.430182 | Europe | 2015 | 0 | 90 |\n| Netherlands | 7.377 | 1.503945 | 1.428939 | 0.8106961 | 0.5853845 | 0.4704898 | 0.2826618 | 2.294804 | Europe | 2015 | 0 | 84 |\n\n",
            "text/latex": "A tibble: 6 × 13\n\\begin{tabular}{lllllllllllll}\n Country & happiness\\_score & gdp\\_per\\_capita & family & health & freedom & generosity & government\\_trust & dystopia\\_residual & continent & Year & social\\_support & cpi\\_score\\\\\n <chr> & <dbl> & <dbl> & <dbl> & <dbl> & <dbl> & <dbl> & <dbl> & <dbl> & <chr> & <dbl> & <dbl> & <dbl>\\\\\n\\hline\n\t Norway      & 7.537 & 1.616463 & 1.533524 & 0.7966665 & 0.6354226 & 0.3620122 & 0.3159638 & 2.277027 & Europe & 2015 & 0 & 88\\\\\n\t Denmark     & 7.522 & 1.482383 & 1.551122 & 0.7925655 & 0.6260067 & 0.3552805 & 0.4007701 & 2.313707 & Europe & 2015 & 0 & 91\\\\\n\t Iceland     & 7.504 & 1.480633 & 1.610574 & 0.8335521 & 0.6271626 & 0.4755402 & 0.1535266 & 2.322715 & Europe & 2015 & 0 & 79\\\\\n\t Switzerland & 7.494 & 1.564980 & 1.516912 & 0.8581313 & 0.6200706 & 0.2905493 & 0.3670073 & 2.276716 & Europe & 2015 & 0 & 86\\\\\n\t Finland     & 7.469 & 1.443572 & 1.540247 & 0.8091577 & 0.6179509 & 0.2454828 & 0.3826115 & 2.430182 & Europe & 2015 & 0 & 90\\\\\n\t Netherlands & 7.377 & 1.503945 & 1.428939 & 0.8106961 & 0.5853845 & 0.4704898 & 0.2826618 & 2.294804 & Europe & 2015 & 0 & 84\\\\\n\\end{tabular}\n",
            "text/plain": [
              "  Country     happiness_score gdp_per_capita family   health    freedom  \n",
              "1 Norway      7.537           1.616463       1.533524 0.7966665 0.6354226\n",
              "2 Denmark     7.522           1.482383       1.551122 0.7925655 0.6260067\n",
              "3 Iceland     7.504           1.480633       1.610574 0.8335521 0.6271626\n",
              "4 Switzerland 7.494           1.564980       1.516912 0.8581313 0.6200706\n",
              "5 Finland     7.469           1.443572       1.540247 0.8091577 0.6179509\n",
              "6 Netherlands 7.377           1.503945       1.428939 0.8106961 0.5853845\n",
              "  generosity government_trust dystopia_residual continent Year social_support\n",
              "1 0.3620122  0.3159638        2.277027          Europe    2015 0             \n",
              "2 0.3552805  0.4007701        2.313707          Europe    2015 0             \n",
              "3 0.4755402  0.1535266        2.322715          Europe    2015 0             \n",
              "4 0.2905493  0.3670073        2.276716          Europe    2015 0             \n",
              "5 0.2454828  0.3826115        2.430182          Europe    2015 0             \n",
              "6 0.4704898  0.2826618        2.294804          Europe    2015 0             \n",
              "  cpi_score\n",
              "1 88       \n",
              "2 91       \n",
              "3 79       \n",
              "4 86       \n",
              "5 90       \n",
              "6 84       "
            ]
          },
          "metadata": {}
        }
      ],
      "source": [
        "library (\"dplyr\")\n",
        "library (\"readr\")\n",
        "# install.packages(\"outliers\")\n",
        "# install.packages(\"lmtest\")\n",
        "# install.packages(\"car\")\n",
        "# install.packages(\"mctest\")\n",
        "# install.packages(\"caTools\")\n",
        "# install.packages(\"EnvStats\")\n",
        "# install.packages(\"gam\")\n",
        "# install.packages(\"Metrics\")\n",
        "install.packages(\"pscl\")\n",
        "library (\"outliers\")\n",
        "library (\"ggplot2\")\n",
        "library(\"EnvStats\")\n",
        "library(\"gam\")\n",
        "library(stats)\n",
        "library(mgcv)\n",
        "library(MASS)\n",
        "library(lmtest)\n",
        "library(car)\n",
        "library(Metrics)\n",
        "library(pscl)\n",
        "\n",
        "\n",
        "Happiness <- read_csv(\"WorldHappiness_Corruption_2015_2020.csv\")\n",
        "\n",
        "head(Happiness)"
      ]
    },
    {
      "cell_type": "code",
      "execution_count": 3,
      "metadata": {
        "colab": {
          "base_uri": "https://localhost:8080/",
          "height": 286
        },
        "id": "UX0DETwSGLcj",
        "outputId": "38ad7daa-c0a7-45d2-d30f-ebc6fa9e58d3"
      },
      "outputs": [
        {
          "output_type": "display_data",
          "data": {
            "text/html": [
              "<table class=\"dataframe\">\n",
              "<caption>A tibble: 6 × 5</caption>\n",
              "<thead>\n",
              "\t<tr><th scope=col>happiness_score</th><th scope=col>GDP</th><th scope=col>health</th><th scope=col>Year</th><th scope=col>CPI</th></tr>\n",
              "\t<tr><th scope=col>&lt;dbl&gt;</th><th scope=col>&lt;dbl&gt;</th><th scope=col>&lt;dbl&gt;</th><th scope=col>&lt;dbl&gt;</th><th scope=col>&lt;dbl&gt;</th></tr>\n",
              "</thead>\n",
              "<tbody>\n",
              "\t<tr><td>7.537</td><td>1.616463</td><td>0.7966665</td><td>2015</td><td>88</td></tr>\n",
              "\t<tr><td>7.522</td><td>1.482383</td><td>0.7925655</td><td>2015</td><td>91</td></tr>\n",
              "\t<tr><td>7.504</td><td>1.480633</td><td>0.8335521</td><td>2015</td><td>79</td></tr>\n",
              "\t<tr><td>7.494</td><td>1.564980</td><td>0.8581313</td><td>2015</td><td>86</td></tr>\n",
              "\t<tr><td>7.469</td><td>1.443572</td><td>0.8091577</td><td>2015</td><td>90</td></tr>\n",
              "\t<tr><td>7.377</td><td>1.503945</td><td>0.8106961</td><td>2015</td><td>84</td></tr>\n",
              "</tbody>\n",
              "</table>\n"
            ],
            "text/markdown": "\nA tibble: 6 × 5\n\n| happiness_score &lt;dbl&gt; | GDP &lt;dbl&gt; | health &lt;dbl&gt; | Year &lt;dbl&gt; | CPI &lt;dbl&gt; |\n|---|---|---|---|---|\n| 7.537 | 1.616463 | 0.7966665 | 2015 | 88 |\n| 7.522 | 1.482383 | 0.7925655 | 2015 | 91 |\n| 7.504 | 1.480633 | 0.8335521 | 2015 | 79 |\n| 7.494 | 1.564980 | 0.8581313 | 2015 | 86 |\n| 7.469 | 1.443572 | 0.8091577 | 2015 | 90 |\n| 7.377 | 1.503945 | 0.8106961 | 2015 | 84 |\n\n",
            "text/latex": "A tibble: 6 × 5\n\\begin{tabular}{lllll}\n happiness\\_score & GDP & health & Year & CPI\\\\\n <dbl> & <dbl> & <dbl> & <dbl> & <dbl>\\\\\n\\hline\n\t 7.537 & 1.616463 & 0.7966665 & 2015 & 88\\\\\n\t 7.522 & 1.482383 & 0.7925655 & 2015 & 91\\\\\n\t 7.504 & 1.480633 & 0.8335521 & 2015 & 79\\\\\n\t 7.494 & 1.564980 & 0.8581313 & 2015 & 86\\\\\n\t 7.469 & 1.443572 & 0.8091577 & 2015 & 90\\\\\n\t 7.377 & 1.503945 & 0.8106961 & 2015 & 84\\\\\n\\end{tabular}\n",
            "text/plain": [
              "  happiness_score GDP      health    Year CPI\n",
              "1 7.537           1.616463 0.7966665 2015 88 \n",
              "2 7.522           1.482383 0.7925655 2015 91 \n",
              "3 7.504           1.480633 0.8335521 2015 79 \n",
              "4 7.494           1.564980 0.8581313 2015 86 \n",
              "5 7.469           1.443572 0.8091577 2015 90 \n",
              "6 7.377           1.503945 0.8106961 2015 84 "
            ]
          },
          "metadata": {}
        }
      ],
      "source": [
        "# Membersihkan data dari nilai NA dan memilih kolom yang ingin digunakan\n",
        "\n",
        "Happiness_clean <- na.omit(Happiness)\n",
        "Happiness_clean <- dplyr::select(Happiness_clean, -family, -freedom:-continent, -social_support)\n",
        "numeric_set <- dplyr::select(Happiness_clean, -Country)\n",
        "colnames(numeric_set)[2] <- \"GDP\"\n",
        "colnames(numeric_set)[5] <- \"CPI\"\n",
        "\n",
        "head(numeric_set)"
      ]
    },
    {
      "cell_type": "markdown",
      "metadata": {
        "id": "Tqoo-StCI7Il"
      },
      "source": [
        "## 1. Assumption Test"
      ]
    },
    {
      "cell_type": "code",
      "execution_count": 4,
      "metadata": {
        "colab": {
          "base_uri": "https://localhost:8080/",
          "height": 364
        },
        "id": "cJxy74rCJnfT",
        "outputId": "ca011b09-79cc-48d7-d3b5-da7712039ca2"
      },
      "outputs": [
        {
          "output_type": "display_data",
          "data": {
            "text/plain": [
              "\n",
              "Call:\n",
              "lm(formula = happiness_score ~ health + CPI + GDP, data = numeric_set)\n",
              "\n",
              "Residuals:\n",
              "     Min       1Q   Median       3Q      Max \n",
              "-2.16291 -0.41038  0.01943  0.43761  1.53723 \n",
              "\n",
              "Coefficients:\n",
              "            Estimate Std. Error t value Pr(>|t|)    \n",
              "(Intercept) 2.880989   0.066748  43.162  < 2e-16 ***\n",
              "health      1.433487   0.153679   9.328  < 2e-16 ***\n",
              "CPI         0.012017   0.001629   7.376 4.13e-13 ***\n",
              "GDP         1.215797   0.099682  12.197  < 2e-16 ***\n",
              "---\n",
              "Signif. codes:  0 ‘***’ 0.001 ‘**’ 0.01 ‘*’ 0.05 ‘.’ 0.1 ‘ ’ 1\n",
              "\n",
              "Residual standard error: 0.6189 on 788 degrees of freedom\n",
              "Multiple R-squared:  0.6983,\tAdjusted R-squared:  0.6972 \n",
              "F-statistic:   608 on 3 and 788 DF,  p-value: < 2.2e-16\n"
            ]
          },
          "metadata": {}
        }
      ],
      "source": [
        "# Membuat model regresi terlebih dahulu\n",
        "mainmodel <- lm(happiness_score ~ health + CPI + GDP, data = numeric_set)\n",
        "summary(mainmodel)"
      ]
    },
    {
      "cell_type": "markdown",
      "metadata": {
        "id": "dCzmyXWG357Y"
      },
      "source": [
        "Diatas adalah hasil model linear regresi dari semua variabel yang sudah dibuat menggunakan lm() method. "
      ]
    },
    {
      "cell_type": "code",
      "execution_count": null,
      "metadata": {
        "id": "xGv44aUN4qpK",
        "colab": {
          "base_uri": "https://localhost:8080/",
          "height": 437
        },
        "outputId": "9864d5ff-5d71-4cdf-842b-94db70cb5ed1"
      },
      "outputs": [
        {
          "output_type": "display_data",
          "data": {
            "text/plain": [
              "Plot with title “”"
            ],
            "image/png": "[encoded data removed]"
          },
          "metadata": {
            "image/png": {
              "width": 420,
              "height": 420
            }
          }
        }
      ],
      "source": [
        "plot(mainmodel, 1)"
      ]
    },
    {
      "cell_type": "code",
      "execution_count": null,
      "metadata": {
        "id": "hkZOIIeI41gZ",
        "colab": {
          "base_uri": "https://localhost:8080/",
          "height": 437
        },
        "outputId": "d8ba6497-5b15-4a7e-830f-bd749404b420"
      },
      "outputs": [
        {
          "output_type": "display_data",
          "data": {
            "text/plain": [
              "Plot with title “”"
            ],
            "image/png": "[encoded data removed]"
          },
          "metadata": {
            "image/png": {
              "width": 420,
              "height": 420
            }
          }
        }
      ],
      "source": [
        "plot(mainmodel, 2)"
      ]
    },
    {
      "cell_type": "markdown",
      "metadata": {
        "id": "sbVNIg6iUGh0"
      },
      "source": [
        "### 1.1 Uji Normalitas"
      ]
    },
    {
      "cell_type": "code",
      "execution_count": null,
      "metadata": {
        "colab": {
          "base_uri": "https://localhost:8080/",
          "height": 104
        },
        "id": "QWNzEbZpViFS",
        "outputId": "227abc7b-4bc2-4db9-ab6f-169739e1f20e"
      },
      "outputs": [
        {
          "output_type": "display_data",
          "data": {
            "text/plain": [
              "\n",
              "\tShapiro-Wilk normality test\n",
              "\n",
              "data:  shapiro\n",
              "W = 0.99487, p-value = 0.00921\n"
            ]
          },
          "metadata": {}
        }
      ],
      "source": [
        "# Uji Normalitas dengan Shapiro-Wilks Test\n",
        "shapiro <- studres(mainmodel)\n",
        "shapiro.test(shapiro)"
      ]
    },
    {
      "cell_type": "markdown",
      "metadata": {
        "id": "yab20mBX_Ynn"
      },
      "source": [
        "#### 𝐇ₒ = Data mempunyai distribusi normal\n",
        "Dengan hipotesis seperti ini, kita lihat nilai dari p-valuenya untuk menentukan apakah hipotesis akan diambil. Jika p-value mempunyai nilai kurang dari (<) atau sama dengan (=) *significance level* atau *alpha* (α) yang bernilai 0.05, maka test akan menolak hipotesis. \n",
        "\n",
        "Karena p-value yang kita dapatkan adalah 0.00921, yang lebih kecil dari α, maka hipotesis ditolak, dan dapat kita asumsikan bahwa data **tidak berdistribusi normal**\n",
        "\n"
      ]
    },
    {
      "cell_type": "markdown",
      "metadata": {
        "id": "sgAQJtZjUnCf"
      },
      "source": [
        "### 1.2 Uji Homoskedastisitas"
      ]
    },
    {
      "cell_type": "code",
      "execution_count": null,
      "metadata": {
        "colab": {
          "base_uri": "https://localhost:8080/",
          "height": 104
        },
        "id": "7nLdhvB1XSTW",
        "outputId": "0c54c687-0353-4dab-f931-9a2a97737940"
      },
      "outputs": [
        {
          "output_type": "display_data",
          "data": {
            "text/plain": [
              "\n",
              "\tstudentized Breusch-Pagan test\n",
              "\n",
              "data:  mainmodel\n",
              "BP = 2.1864, df = 3, p-value = 0.5346\n"
            ]
          },
          "metadata": {}
        }
      ],
      "source": [
        "# Uji Homoscedasticity dengan Breusch-Pagan test dan ncvTest\n",
        "bptest(mainmodel)"
      ]
    },
    {
      "cell_type": "markdown",
      "metadata": {
        "id": "rbfgh0EGETl1"
      },
      "source": [
        "#### 𝐇ₒ = Data mempunyai homoskedastisitas\n",
        "Dengan hipotesis seperti ini, kita lihat nilai dari p-valuenya untuk menentukan apakah hipotesis akan diambil. Jika p-value mempunyai nilai kurang dari (<) atau sama dengan (=) significance level atau alpha (α) yang bernilai 0.05, maka test akan menolak hipotesis.\n",
        "\n",
        "Karena p-value yang kita dapatkan adalah 0.5346, yang lebih besar dari α, maka hipotesis diterima, dan dapat kita asumsikan bahwa **data mempunyai homoskedastisitas**."
      ]
    },
    {
      "cell_type": "markdown",
      "metadata": {
        "id": "HzkZlMUXUxPV"
      },
      "source": [
        "### 1.3 Uji independen"
      ]
    },
    {
      "cell_type": "code",
      "execution_count": null,
      "metadata": {
        "colab": {
          "base_uri": "https://localhost:8080/",
          "height": 121
        },
        "id": "D-Iw8vyCXSFT",
        "outputId": "c79d1774-a175-4efa-9a8f-8fd92836354b"
      },
      "outputs": [
        {
          "output_type": "display_data",
          "data": {
            "text/plain": [
              "\n",
              "\tDurbin-Watson test\n",
              "\n",
              "data:  mainmodel\n",
              "DW = 1.4748, p-value = 4.575e-14\n",
              "alternative hypothesis: true autocorrelation is greater than 0\n"
            ]
          },
          "metadata": {}
        }
      ],
      "source": [
        "# Uji asumsi independen dengan Durbin Watson Test\n",
        "dwtest(mainmodel)"
      ]
    },
    {
      "cell_type": "markdown",
      "metadata": {
        "id": "bBrkv1R750ev"
      },
      "source": [
        "#### 𝐇ₒ = Data tidak mempunyai korelasi satu dengan yang lain\n",
        "Dengan hipotesis seperti ini, kita lihat nilai dari p-valuenya untuk menentukan apakah hipotesis akan diambil. Jika p-value mempunyai nilai kurang dari (<) atau sama dengan (=) significance level atau alpha (α) yang bernilai 0.05, maka test akan menolak hipotesis.\n",
        "\n",
        "Karena p-value yang kita dapatkan adalah 4.088e-14, yang lebih kecil dari α, maka hipotesis ditolak, dan dapat kita asumsikan bahwa **data mempunyai korelasi atau bersifat *autocorrelated***."
      ]
    },
    {
      "cell_type": "markdown",
      "metadata": {
        "id": "XKwRKj6GU2-9"
      },
      "source": [
        "### 1.4 Uji Multikolinearitas"
      ]
    },
    {
      "cell_type": "code",
      "execution_count": null,
      "metadata": {
        "colab": {
          "base_uri": "https://localhost:8080/",
          "height": 34
        },
        "id": "Kc5ciJKyYUbp",
        "outputId": "6d6ae79b-1168-424d-cb1b-a17cdd1187b7"
      },
      "outputs": [
        {
          "output_type": "display_data",
          "data": {
            "text/html": [
              "<style>\n",
              ".dl-inline {width: auto; margin:0; padding: 0}\n",
              ".dl-inline>dt, .dl-inline>dd {float: none; width: auto; display: inline-block}\n",
              ".dl-inline>dt::after {content: \":\\0020\"; padding-right: .5ex}\n",
              ".dl-inline>dt:not(:first-of-type) {padding-left: .5ex}\n",
              "</style><dl class=dl-inline><dt>health</dt><dd>2.63062581911932</dd><dt>CPI</dt><dd>2.08592794834624</dd><dt>GDP</dt><dd>3.05336109782475</dd></dl>\n"
            ],
            "text/markdown": "health\n:   2.63062581911932CPI\n:   2.08592794834624GDP\n:   3.05336109782475\n\n",
            "text/latex": "\\begin{description*}\n\\item[health] 2.63062581911932\n\\item[CPI] 2.08592794834624\n\\item[GDP] 3.05336109782475\n\\end{description*}\n",
            "text/plain": [
              "  health      CPI      GDP \n",
              "2.630626 2.085928 3.053361 "
            ]
          },
          "metadata": {}
        }
      ],
      "source": [
        "# Uji multicollinearity dengan VIF\n",
        "vif(mainmodel)"
      ]
    },
    {
      "cell_type": "markdown",
      "metadata": {
        "id": "9PLqzVdjV_FQ"
      },
      "source": [
        "Untuk VIF terdapat 3 indikator yang bisa digunakan mengenai value yg keluar :\n",
        "*   Nilai 1 menunjukkan tidak ada korelasi antara variabel independen dengan variabel\n",
        "*   Nilai 1 sampai 5 menunjukkan korelasi yang sedang antara variabel independen yang satu dengan variabel lainnya\n",
        "*   Nilai lebih besar 5 menunjukkan adanya korelasi yang tinggi, bahkan terlalu berlebihan antara variabel independen yang satu dengan lainnya\n",
        "\n",
        "Dari hasil VIF, terlihat bahwa semua variabel independen mempunyai nilai diantara 1-5 yang sesuai dengan indikator kedua. Hal ini berarti terdapat korelasi sedang diantara semua variabel independen dan tidak dibutuhkan pembersihan lagi.\n"
      ]
    },
    {
      "cell_type": "markdown",
      "metadata": {
        "id": "5jdLqNESI-Uy"
      },
      "source": [
        "## 2. Checking for Outliers"
      ]
    },
    {
      "cell_type": "markdown",
      "metadata": {
        "id": "E_9tMLX9VPdE"
      },
      "source": [
        "### 2.1 Grubbs Outlier"
      ]
    },
    {
      "cell_type": "markdown",
      "metadata": {
        "id": "6a5KJ9S7KQ4Y"
      },
      "source": [
        "#### 2.1.1 Happiness Score"
      ]
    },
    {
      "cell_type": "code",
      "execution_count": null,
      "metadata": {
        "colab": {
          "base_uri": "https://localhost:8080/",
          "height": 121
        },
        "id": "WHdZkkrOJRzv",
        "outputId": "3e7435a1-f7f7-4017-cb14-1195354fff96"
      },
      "outputs": [
        {
          "output_type": "display_data",
          "data": {
            "text/plain": [
              "\n",
              "\tGrubbs test for one outlier\n",
              "\n",
              "data:  numeric_set$happiness_score\n",
              "G = 2.58410, U = 0.99155, p-value = 1\n",
              "alternative hypothesis: lowest value 2.566900015 is an outlier\n"
            ]
          },
          "metadata": {}
        }
      ],
      "source": [
        "grubbs.test(numeric_set$happiness_score)"
      ]
    },
    {
      "cell_type": "markdown",
      "source": [],
      "metadata": {
        "id": "g3zJZka3VG8G"
      }
    },
    {
      "cell_type": "markdown",
      "metadata": {
        "id": "oO2gcLSHKc8U"
      },
      "source": [
        "#### 2.1.2 GDP"
      ]
    },
    {
      "cell_type": "code",
      "execution_count": null,
      "metadata": {
        "colab": {
          "base_uri": "https://localhost:8080/",
          "height": 121
        },
        "id": "Hu_uvjEJJu7g",
        "outputId": "0f124c41-8f17-490b-e119-692571f623e8"
      },
      "outputs": [
        {
          "output_type": "display_data",
          "data": {
            "text/plain": [
              "\n",
              "\tGrubbs test for one outlier\n",
              "\n",
              "data:  numeric_set$GDP\n",
              "G = 3.02452, U = 0.98842, p-value = 0.9608\n",
              "alternative hypothesis: highest value 2.096 is an outlier\n"
            ]
          },
          "metadata": {}
        }
      ],
      "source": [
        "grubbs.test(numeric_set$GDP)"
      ]
    },
    {
      "cell_type": "markdown",
      "metadata": {
        "id": "rvAjSNL6O3Fx"
      },
      "source": [
        "#### 2.1.3. Health"
      ]
    },
    {
      "cell_type": "code",
      "execution_count": null,
      "metadata": {
        "colab": {
          "base_uri": "https://localhost:8080/",
          "height": 121
        },
        "id": "72JZuxvRO-37",
        "outputId": "a294cc53-13f9-40cc-f7da-509b81202850"
      },
      "outputs": [
        {
          "output_type": "display_data",
          "data": {
            "text/plain": [
              "\n",
              "\tGrubbs test for one outlier\n",
              "\n",
              "data:  numeric_set$health\n",
              "G = 2.79294, U = 0.99013, p-value = 1\n",
              "alternative hypothesis: lowest value 0 is an outlier\n"
            ]
          },
          "metadata": {}
        }
      ],
      "source": [
        "grubbs.test(numeric_set$health)"
      ]
    },
    {
      "cell_type": "markdown",
      "metadata": {
        "id": "kbUQ3ljUO7ht"
      },
      "source": [
        "#### 2.1.4. CPI Score"
      ]
    },
    {
      "cell_type": "code",
      "execution_count": null,
      "metadata": {
        "colab": {
          "base_uri": "https://localhost:8080/",
          "height": 121
        },
        "id": "TjKEvGISO_Tj",
        "outputId": "14077a70-5a44-4f72-d2c5-80d544c0bc57"
      },
      "outputs": [
        {
          "output_type": "display_data",
          "data": {
            "text/plain": [
              "\n",
              "\tGrubbs test for one outlier\n",
              "\n",
              "data:  numeric_set$CPI\n",
              "G = 2.39240, U = 0.99275, p-value = 1\n",
              "alternative hypothesis: highest value 91 is an outlier\n"
            ]
          },
          "metadata": {}
        }
      ],
      "source": [
        "grubbs.test(numeric_set$CPI)"
      ]
    },
    {
      "cell_type": "markdown",
      "metadata": {
        "id": "s_00dY74KDI1"
      },
      "source": [
        "### 2.2 Generalized ESD Test"
      ]
    },
    {
      "cell_type": "markdown",
      "metadata": {
        "id": "oe9E_4EjM5RU"
      },
      "source": [
        "#### 2.2.1. Happiness Score"
      ]
    },
    {
      "cell_type": "code",
      "execution_count": null,
      "metadata": {
        "colab": {
          "base_uri": "https://localhost:8080/",
          "height": 255
        },
        "id": "1OAJicclKH13",
        "outputId": "e9da324b-7c8f-4e89-e586-778f83e8f4b3"
      },
      "outputs": [
        {
          "output_type": "display_data",
          "data": {
            "text/html": [
              "<table class=\"dataframe\">\n",
              "<caption>A data.frame: 5 × 8</caption>\n",
              "<thead>\n",
              "\t<tr><th scope=col>i</th><th scope=col>Mean.i</th><th scope=col>SD.i</th><th scope=col>Value</th><th scope=col>Obs.Num</th><th scope=col>R.i+1</th><th scope=col>lambda.i+1</th><th scope=col>Outlier</th></tr>\n",
              "\t<tr><th scope=col>&lt;dbl&gt;</th><th scope=col>&lt;dbl&gt;</th><th scope=col>&lt;dbl&gt;</th><th scope=col>&lt;dbl&gt;</th><th scope=col>&lt;dbl&gt;</th><th scope=col>&lt;dbl&gt;</th><th scope=col>&lt;dbl&gt;</th><th scope=col>&lt;lgl&gt;</th></tr>\n",
              "</thead>\n",
              "<tbody>\n",
              "\t<tr><td>0</td><td>5.473310</td><td>1.124726</td><td>2.5669</td><td>792</td><td>2.584105</td><td>3.981859</td><td>FALSE</td></tr>\n",
              "\t<tr><td>1</td><td>5.476984</td><td>1.120671</td><td>2.8390</td><td>264</td><td>2.353932</td><td>3.981540</td><td>FALSE</td></tr>\n",
              "\t<tr><td>2</td><td>5.480323</td><td>1.117437</td><td>2.9050</td><td>132</td><td>2.304671</td><td>3.981221</td><td>FALSE</td></tr>\n",
              "\t<tr><td>3</td><td>5.483587</td><td>1.114371</td><td>2.9050</td><td>263</td><td>2.313941</td><td>3.980902</td><td>FALSE</td></tr>\n",
              "\t<tr><td>4</td><td>5.486860</td><td>1.111279</td><td>2.9050</td><td>528</td><td>2.323323</td><td>3.980582</td><td>FALSE</td></tr>\n",
              "</tbody>\n",
              "</table>\n"
            ],
            "text/markdown": "\nA data.frame: 5 × 8\n\n| i &lt;dbl&gt; | Mean.i &lt;dbl&gt; | SD.i &lt;dbl&gt; | Value &lt;dbl&gt; | Obs.Num &lt;dbl&gt; | R.i+1 &lt;dbl&gt; | lambda.i+1 &lt;dbl&gt; | Outlier &lt;lgl&gt; |\n|---|---|---|---|---|---|---|---|\n| 0 | 5.473310 | 1.124726 | 2.5669 | 792 | 2.584105 | 3.981859 | FALSE |\n| 1 | 5.476984 | 1.120671 | 2.8390 | 264 | 2.353932 | 3.981540 | FALSE |\n| 2 | 5.480323 | 1.117437 | 2.9050 | 132 | 2.304671 | 3.981221 | FALSE |\n| 3 | 5.483587 | 1.114371 | 2.9050 | 263 | 2.313941 | 3.980902 | FALSE |\n| 4 | 5.486860 | 1.111279 | 2.9050 | 528 | 2.323323 | 3.980582 | FALSE |\n\n",
            "text/latex": "A data.frame: 5 × 8\n\\begin{tabular}{llllllll}\n i & Mean.i & SD.i & Value & Obs.Num & R.i+1 & lambda.i+1 & Outlier\\\\\n <dbl> & <dbl> & <dbl> & <dbl> & <dbl> & <dbl> & <dbl> & <lgl>\\\\\n\\hline\n\t 0 & 5.473310 & 1.124726 & 2.5669 & 792 & 2.584105 & 3.981859 & FALSE\\\\\n\t 1 & 5.476984 & 1.120671 & 2.8390 & 264 & 2.353932 & 3.981540 & FALSE\\\\\n\t 2 & 5.480323 & 1.117437 & 2.9050 & 132 & 2.304671 & 3.981221 & FALSE\\\\\n\t 3 & 5.483587 & 1.114371 & 2.9050 & 263 & 2.313941 & 3.980902 & FALSE\\\\\n\t 4 & 5.486860 & 1.111279 & 2.9050 & 528 & 2.323323 & 3.980582 & FALSE\\\\\n\\end{tabular}\n",
            "text/plain": [
              "  i Mean.i   SD.i     Value  Obs.Num R.i+1    lambda.i+1 Outlier\n",
              "1 0 5.473310 1.124726 2.5669 792     2.584105 3.981859   FALSE  \n",
              "2 1 5.476984 1.120671 2.8390 264     2.353932 3.981540   FALSE  \n",
              "3 2 5.480323 1.117437 2.9050 132     2.304671 3.981221   FALSE  \n",
              "4 3 5.483587 1.114371 2.9050 263     2.313941 3.980902   FALSE  \n",
              "5 4 5.486860 1.111279 2.9050 528     2.323323 3.980582   FALSE  "
            ]
          },
          "metadata": {}
        }
      ],
      "source": [
        "vector_happiness <- pull(numeric_set, happiness_score)\n",
        "rosner <- rosnerTest(vector_happiness, k=5, warn= TRUE)\n",
        "rosner$all.stats"
      ]
    },
    {
      "cell_type": "markdown",
      "source": [
        "Variabel happiness_score tidak mempunyai outlier, hal ini bisa terlihat dari kolom 'outlier' yang menunjukkan isi 'false'."
      ],
      "metadata": {
        "id": "FfJMbLkCVVvL"
      }
    },
    {
      "cell_type": "markdown",
      "metadata": {
        "id": "9Fqt3yCcQN_m"
      },
      "source": [
        "#### 2.2.2. GDP"
      ]
    },
    {
      "cell_type": "code",
      "execution_count": null,
      "metadata": {
        "colab": {
          "base_uri": "https://localhost:8080/",
          "height": 255
        },
        "id": "DqNe13FNNJ6W",
        "outputId": "15b3c109-bf43-4fe8-bf13-ea4d05c221ad"
      },
      "outputs": [
        {
          "output_type": "display_data",
          "data": {
            "text/html": [
              "<table class=\"dataframe\">\n",
              "<caption>A data.frame: 5 × 8</caption>\n",
              "<thead>\n",
              "\t<tr><th scope=col>i</th><th scope=col>Mean.i</th><th scope=col>SD.i</th><th scope=col>Value</th><th scope=col>Obs.Num</th><th scope=col>R.i+1</th><th scope=col>lambda.i+1</th><th scope=col>Outlier</th></tr>\n",
              "\t<tr><th scope=col>&lt;dbl&gt;</th><th scope=col>&lt;dbl&gt;</th><th scope=col>&lt;dbl&gt;</th><th scope=col>&lt;dbl&gt;</th><th scope=col>&lt;dbl&gt;</th><th scope=col>&lt;dbl&gt;</th><th scope=col>&lt;dbl&gt;</th><th scope=col>&lt;lgl&gt;</th></tr>\n",
              "</thead>\n",
              "<tbody>\n",
              "\t<tr><td>0</td><td>0.9292171</td><td>0.3857740</td><td>2.09600</td><td>416</td><td>3.024524</td><td>3.981859</td><td>FALSE</td></tr>\n",
              "\t<tr><td>1</td><td>0.9277420</td><td>0.3837767</td><td>0.00000</td><td>782</td><td>2.417401</td><td>3.981540</td><td>FALSE</td></tr>\n",
              "\t<tr><td>2</td><td>0.9289164</td><td>0.3825950</td><td>0.01530</td><td>263</td><td>2.387946</td><td>3.981221</td><td>FALSE</td></tr>\n",
              "\t<tr><td>3</td><td>0.9300743</td><td>0.3814500</td><td>0.01604</td><td>243</td><td>2.396210</td><td>3.980902</td><td>FALSE</td></tr>\n",
              "\t<tr><td>4</td><td>0.9312342</td><td>0.3802974</td><td>0.04600</td><td>388</td><td>2.327742</td><td>3.980582</td><td>FALSE</td></tr>\n",
              "</tbody>\n",
              "</table>\n"
            ],
            "text/markdown": "\nA data.frame: 5 × 8\n\n| i &lt;dbl&gt; | Mean.i &lt;dbl&gt; | SD.i &lt;dbl&gt; | Value &lt;dbl&gt; | Obs.Num &lt;dbl&gt; | R.i+1 &lt;dbl&gt; | lambda.i+1 &lt;dbl&gt; | Outlier &lt;lgl&gt; |\n|---|---|---|---|---|---|---|---|\n| 0 | 0.9292171 | 0.3857740 | 2.09600 | 416 | 3.024524 | 3.981859 | FALSE |\n| 1 | 0.9277420 | 0.3837767 | 0.00000 | 782 | 2.417401 | 3.981540 | FALSE |\n| 2 | 0.9289164 | 0.3825950 | 0.01530 | 263 | 2.387946 | 3.981221 | FALSE |\n| 3 | 0.9300743 | 0.3814500 | 0.01604 | 243 | 2.396210 | 3.980902 | FALSE |\n| 4 | 0.9312342 | 0.3802974 | 0.04600 | 388 | 2.327742 | 3.980582 | FALSE |\n\n",
            "text/latex": "A data.frame: 5 × 8\n\\begin{tabular}{llllllll}\n i & Mean.i & SD.i & Value & Obs.Num & R.i+1 & lambda.i+1 & Outlier\\\\\n <dbl> & <dbl> & <dbl> & <dbl> & <dbl> & <dbl> & <dbl> & <lgl>\\\\\n\\hline\n\t 0 & 0.9292171 & 0.3857740 & 2.09600 & 416 & 3.024524 & 3.981859 & FALSE\\\\\n\t 1 & 0.9277420 & 0.3837767 & 0.00000 & 782 & 2.417401 & 3.981540 & FALSE\\\\\n\t 2 & 0.9289164 & 0.3825950 & 0.01530 & 263 & 2.387946 & 3.981221 & FALSE\\\\\n\t 3 & 0.9300743 & 0.3814500 & 0.01604 & 243 & 2.396210 & 3.980902 & FALSE\\\\\n\t 4 & 0.9312342 & 0.3802974 & 0.04600 & 388 & 2.327742 & 3.980582 & FALSE\\\\\n\\end{tabular}\n",
            "text/plain": [
              "  i Mean.i    SD.i      Value   Obs.Num R.i+1    lambda.i+1 Outlier\n",
              "1 0 0.9292171 0.3857740 2.09600 416     3.024524 3.981859   FALSE  \n",
              "2 1 0.9277420 0.3837767 0.00000 782     2.417401 3.981540   FALSE  \n",
              "3 2 0.9289164 0.3825950 0.01530 263     2.387946 3.981221   FALSE  \n",
              "4 3 0.9300743 0.3814500 0.01604 243     2.396210 3.980902   FALSE  \n",
              "5 4 0.9312342 0.3802974 0.04600 388     2.327742 3.980582   FALSE  "
            ]
          },
          "metadata": {}
        }
      ],
      "source": [
        "vector_happiness <- pull(numeric_set, GDP)\n",
        "rosnerTest(vector_happiness, k=5)$all.stats\n"
      ]
    },
    {
      "cell_type": "markdown",
      "source": [
        "Variabel GDP juga tidak mempunyai outlier, hal ini bisa terlihat dari kolom 'outlier'nya yang menunjukkan isi 'false'."
      ],
      "metadata": {
        "id": "-lRHGcJSWzdP"
      }
    },
    {
      "cell_type": "markdown",
      "metadata": {
        "id": "NncKaw1DQUAY"
      },
      "source": [
        "#### 2.2.3. Health"
      ]
    },
    {
      "cell_type": "code",
      "execution_count": null,
      "metadata": {
        "colab": {
          "base_uri": "https://localhost:8080/",
          "height": 192
        },
        "id": "io2ZFR1TQUcB",
        "outputId": "7ca789a2-bca9-47fd-8f77-cffc8cd8c3c8"
      },
      "outputs": [
        {
          "output_type": "display_data",
          "data": {
            "text/html": [
              "<table class=\"dataframe\">\n",
              "<caption>A data.frame: 3 × 8</caption>\n",
              "<thead>\n",
              "\t<tr><th scope=col>i</th><th scope=col>Mean.i</th><th scope=col>SD.i</th><th scope=col>Value</th><th scope=col>Obs.Num</th><th scope=col>R.i+1</th><th scope=col>lambda.i+1</th><th scope=col>Outlier</th></tr>\n",
              "\t<tr><th scope=col>&lt;dbl&gt;</th><th scope=col>&lt;dbl&gt;</th><th scope=col>&lt;dbl&gt;</th><th scope=col>&lt;dbl&gt;</th><th scope=col>&lt;dbl&gt;</th><th scope=col>&lt;dbl&gt;</th><th scope=col>&lt;dbl&gt;</th><th scope=col>&lt;lgl&gt;</th></tr>\n",
              "</thead>\n",
              "<tbody>\n",
              "\t<tr><td>0</td><td>0.6486912</td><td>0.2322608</td><td>0</td><td>236</td><td>2.792943</td><td>3.981859</td><td>FALSE</td></tr>\n",
              "\t<tr><td>1</td><td>0.6495113</td><td>0.2312575</td><td>0</td><td>495</td><td>2.808607</td><td>3.981540</td><td>FALSE</td></tr>\n",
              "\t<tr><td>2</td><td>0.6503335</td><td>0.2302443</td><td>0</td><td>623</td><td>2.824537</td><td>3.981221</td><td>FALSE</td></tr>\n",
              "</tbody>\n",
              "</table>\n"
            ],
            "text/markdown": "\nA data.frame: 3 × 8\n\n| i &lt;dbl&gt; | Mean.i &lt;dbl&gt; | SD.i &lt;dbl&gt; | Value &lt;dbl&gt; | Obs.Num &lt;dbl&gt; | R.i+1 &lt;dbl&gt; | lambda.i+1 &lt;dbl&gt; | Outlier &lt;lgl&gt; |\n|---|---|---|---|---|---|---|---|\n| 0 | 0.6486912 | 0.2322608 | 0 | 236 | 2.792943 | 3.981859 | FALSE |\n| 1 | 0.6495113 | 0.2312575 | 0 | 495 | 2.808607 | 3.981540 | FALSE |\n| 2 | 0.6503335 | 0.2302443 | 0 | 623 | 2.824537 | 3.981221 | FALSE |\n\n",
            "text/latex": "A data.frame: 3 × 8\n\\begin{tabular}{llllllll}\n i & Mean.i & SD.i & Value & Obs.Num & R.i+1 & lambda.i+1 & Outlier\\\\\n <dbl> & <dbl> & <dbl> & <dbl> & <dbl> & <dbl> & <dbl> & <lgl>\\\\\n\\hline\n\t 0 & 0.6486912 & 0.2322608 & 0 & 236 & 2.792943 & 3.981859 & FALSE\\\\\n\t 1 & 0.6495113 & 0.2312575 & 0 & 495 & 2.808607 & 3.981540 & FALSE\\\\\n\t 2 & 0.6503335 & 0.2302443 & 0 & 623 & 2.824537 & 3.981221 & FALSE\\\\\n\\end{tabular}\n",
            "text/plain": [
              "  i Mean.i    SD.i      Value Obs.Num R.i+1    lambda.i+1 Outlier\n",
              "1 0 0.6486912 0.2322608 0     236     2.792943 3.981859   FALSE  \n",
              "2 1 0.6495113 0.2312575 0     495     2.808607 3.981540   FALSE  \n",
              "3 2 0.6503335 0.2302443 0     623     2.824537 3.981221   FALSE  "
            ]
          },
          "metadata": {}
        }
      ],
      "source": [
        "vector_happiness <- pull(numeric_set, health)\n",
        "rosnerTest(vector_happiness)$all.stats\n"
      ]
    },
    {
      "cell_type": "markdown",
      "source": [
        "Variabel health juga tidak mempunyai outlier, hal ini bisa terlihat dari kolom 'outlier'nya yang menunjukkan isi 'false'."
      ],
      "metadata": {
        "id": "nk6vFMqWW4C7"
      }
    },
    {
      "cell_type": "markdown",
      "metadata": {
        "id": "ArZ1cZqhQUw3"
      },
      "source": [
        "#### 2.2.4. CPI Score\n"
      ]
    },
    {
      "cell_type": "code",
      "execution_count": null,
      "metadata": {
        "colab": {
          "base_uri": "https://localhost:8080/",
          "height": 192
        },
        "id": "QO3Pue8jQVM-",
        "outputId": "fde7f478-1ca3-4b13-b73f-c7b0ef5b79df"
      },
      "outputs": [
        {
          "output_type": "display_data",
          "data": {
            "text/html": [
              "<table class=\"dataframe\">\n",
              "<caption>A data.frame: 3 × 8</caption>\n",
              "<thead>\n",
              "\t<tr><th scope=col>i</th><th scope=col>Mean.i</th><th scope=col>SD.i</th><th scope=col>Value</th><th scope=col>Obs.Num</th><th scope=col>R.i+1</th><th scope=col>lambda.i+1</th><th scope=col>Outlier</th></tr>\n",
              "\t<tr><th scope=col>&lt;dbl&gt;</th><th scope=col>&lt;dbl&gt;</th><th scope=col>&lt;dbl&gt;</th><th scope=col>&lt;dbl&gt;</th><th scope=col>&lt;dbl&gt;</th><th scope=col>&lt;dbl&gt;</th><th scope=col>&lt;dbl&gt;</th><th scope=col>&lt;lgl&gt;</th></tr>\n",
              "</thead>\n",
              "<tbody>\n",
              "\t<tr><td>0</td><td>44.32702</td><td>19.50883</td><td>91</td><td>2</td><td>2.392402</td><td>3.981859</td><td>FALSE</td></tr>\n",
              "\t<tr><td>1</td><td>44.26802</td><td>19.45033</td><td>91</td><td>8</td><td>2.402632</td><td>3.981540</td><td>FALSE</td></tr>\n",
              "\t<tr><td>2</td><td>44.20886</td><td>19.39133</td><td>90</td><td>5</td><td>2.361424</td><td>3.981221</td><td>FALSE</td></tr>\n",
              "</tbody>\n",
              "</table>\n"
            ],
            "text/markdown": "\nA data.frame: 3 × 8\n\n| i &lt;dbl&gt; | Mean.i &lt;dbl&gt; | SD.i &lt;dbl&gt; | Value &lt;dbl&gt; | Obs.Num &lt;dbl&gt; | R.i+1 &lt;dbl&gt; | lambda.i+1 &lt;dbl&gt; | Outlier &lt;lgl&gt; |\n|---|---|---|---|---|---|---|---|\n| 0 | 44.32702 | 19.50883 | 91 | 2 | 2.392402 | 3.981859 | FALSE |\n| 1 | 44.26802 | 19.45033 | 91 | 8 | 2.402632 | 3.981540 | FALSE |\n| 2 | 44.20886 | 19.39133 | 90 | 5 | 2.361424 | 3.981221 | FALSE |\n\n",
            "text/latex": "A data.frame: 3 × 8\n\\begin{tabular}{llllllll}\n i & Mean.i & SD.i & Value & Obs.Num & R.i+1 & lambda.i+1 & Outlier\\\\\n <dbl> & <dbl> & <dbl> & <dbl> & <dbl> & <dbl> & <dbl> & <lgl>\\\\\n\\hline\n\t 0 & 44.32702 & 19.50883 & 91 & 2 & 2.392402 & 3.981859 & FALSE\\\\\n\t 1 & 44.26802 & 19.45033 & 91 & 8 & 2.402632 & 3.981540 & FALSE\\\\\n\t 2 & 44.20886 & 19.39133 & 90 & 5 & 2.361424 & 3.981221 & FALSE\\\\\n\\end{tabular}\n",
            "text/plain": [
              "  i Mean.i   SD.i     Value Obs.Num R.i+1    lambda.i+1 Outlier\n",
              "1 0 44.32702 19.50883 91    2       2.392402 3.981859   FALSE  \n",
              "2 1 44.26802 19.45033 91    8       2.402632 3.981540   FALSE  \n",
              "3 2 44.20886 19.39133 90    5       2.361424 3.981221   FALSE  "
            ]
          },
          "metadata": {}
        }
      ],
      "source": [
        "vector_happiness <- pull(numeric_set, CPI)\n",
        "rosnerTest(vector_happiness)$all.stats\n"
      ]
    },
    {
      "cell_type": "markdown",
      "source": [
        "Variabel CPI juga tidak mempunyai outlier, hal ini bisa terlihat dari kolom 'outlier'nya yang menunjukkan isi 'false'."
      ],
      "metadata": {
        "id": "zDRfhUIDW81L"
      }
    },
    {
      "cell_type": "markdown",
      "metadata": {
        "id": "SeDyYXS8JM87"
      },
      "source": [
        "## 3. Regression Model"
      ]
    },
    {
      "cell_type": "markdown",
      "metadata": {
        "id": "BMBPxN0RjNcK"
      },
      "source": [
        "### 3.1 Model Regression dengan logistic regression\n"
      ]
    },
    {
      "cell_type": "markdown",
      "metadata": {
        "id": "ixRGFEpCYyxo"
      },
      "source": [
        "#### 3.1.1 Logistic Regression GLM dengan family 'gaussian'"
      ]
    },
    {
      "cell_type": "code",
      "execution_count": null,
      "metadata": {
        "colab": {
          "base_uri": "https://localhost:8080/",
          "height": 399
        },
        "id": "64q8GZsblZ_8",
        "outputId": "4508ad53-54c6-49f5-f8af-77c49afe0aab"
      },
      "outputs": [
        {
          "output_type": "display_data",
          "data": {
            "text/plain": [
              "\n",
              "Call:\n",
              "glm(formula = happiness_score ~ GDP, family = gaussian, data = numeric_set)\n",
              "\n",
              "Deviance Residuals: \n",
              "     Min        1Q    Median        3Q       Max  \n",
              "-2.24384  -0.49760  -0.01234   0.53447   1.69126  \n",
              "\n",
              "Coefficients:\n",
              "            Estimate Std. Error t value Pr(>|t|)    \n",
              "(Intercept)  3.32424    0.06354   52.32   <2e-16 ***\n",
              "GDP          2.31277    0.06316   36.62   <2e-16 ***\n",
              "---\n",
              "Signif. codes:  0 ‘***’ 0.001 ‘**’ 0.01 ‘*’ 0.05 ‘.’ 0.1 ‘ ’ 1\n",
              "\n",
              "(Dispersion parameter for gaussian family taken to be 0.4695668)\n",
              "\n",
              "    Null deviance: 1000.62  on 791  degrees of freedom\n",
              "Residual deviance:  370.96  on 790  degrees of freedom\n",
              "AIC: 1652.9\n",
              "\n",
              "Number of Fisher Scoring iterations: 2\n"
            ]
          },
          "metadata": {}
        }
      ],
      "source": [
        "# Logistic Regression antara\n",
        "library(caTools)\n",
        "glm_gaus <- glm(formula = happiness_score ~  GDP, data = numeric_set, family = gaussian)\n",
        "summary(glm_gaus)"
      ]
    },
    {
      "cell_type": "code",
      "execution_count": null,
      "metadata": {
        "colab": {
          "base_uri": "https://localhost:8080/",
          "height": 161
        },
        "id": "ATLPC6Ob6FiO",
        "outputId": "b4e3c0bc-1aa1-4e54-fd64-7efbe24531ef"
      },
      "outputs": [
        {
          "output_type": "display_data",
          "data": {
            "text/html": [
              "<table class=\"dataframe\">\n",
              "<caption>A anova: 2 × 4</caption>\n",
              "<thead>\n",
              "\t<tr><th></th><th scope=col>Df</th><th scope=col>Deviance</th><th scope=col>Resid. Df</th><th scope=col>Resid. Dev</th></tr>\n",
              "\t<tr><th></th><th scope=col>&lt;int&gt;</th><th scope=col>&lt;dbl&gt;</th><th scope=col>&lt;int&gt;</th><th scope=col>&lt;dbl&gt;</th></tr>\n",
              "</thead>\n",
              "<tbody>\n",
              "\t<tr><th scope=row>NULL</th><td>NA</td><td>      NA</td><td>791</td><td>1000.6220</td></tr>\n",
              "\t<tr><th scope=row>GDP</th><td> 1</td><td>629.6642</td><td>790</td><td> 370.9578</td></tr>\n",
              "</tbody>\n",
              "</table>\n"
            ],
            "text/markdown": "\nA anova: 2 × 4\n\n| <!--/--> | Df &lt;int&gt; | Deviance &lt;dbl&gt; | Resid. Df &lt;int&gt; | Resid. Dev &lt;dbl&gt; |\n|---|---|---|---|---|\n| NULL | NA |       NA | 791 | 1000.6220 |\n| GDP |  1 | 629.6642 | 790 |  370.9578 |\n\n",
            "text/latex": "A anova: 2 × 4\n\\begin{tabular}{r|llll}\n  & Df & Deviance & Resid. Df & Resid. Dev\\\\\n  & <int> & <dbl> & <int> & <dbl>\\\\\n\\hline\n\tNULL & NA &       NA & 791 & 1000.6220\\\\\n\tGDP &  1 & 629.6642 & 790 &  370.9578\\\\\n\\end{tabular}\n",
            "text/plain": [
              "     Df Deviance Resid. Df Resid. Dev\n",
              "NULL NA       NA 791       1000.6220 \n",
              "GDP   1 629.6642 790        370.9578 "
            ]
          },
          "metadata": {}
        }
      ],
      "source": [
        "anova(glm_gaus)"
      ]
    },
    {
      "cell_type": "markdown",
      "metadata": {
        "id": "m-mjqfY0Y6N7"
      },
      "source": [
        "#### 3.1.2 Logistic Regression GLM dengan family 'Gamma'"
      ]
    },
    {
      "cell_type": "code",
      "execution_count": 5,
      "metadata": {
        "colab": {
          "base_uri": "https://localhost:8080/",
          "height": 399
        },
        "id": "PKAerILKY__s",
        "outputId": "e9f997f6-ebec-4489-ba0e-450d55f4fa45"
      },
      "outputs": [
        {
          "output_type": "display_data",
          "data": {
            "text/plain": [
              "\n",
              "Call:\n",
              "glm(formula = happiness_score ~ GDP, family = Gamma, data = numeric_set)\n",
              "\n",
              "Deviance Residuals: \n",
              "     Min        1Q    Median        3Q       Max  \n",
              "-0.45207  -0.09443  -0.00477   0.09136   0.30893  \n",
              "\n",
              "Coefficients:\n",
              "             Estimate Std. Error t value Pr(>|t|)    \n",
              "(Intercept)  0.263395   0.002524  104.35   <2e-16 ***\n",
              "GDP         -0.081339   0.002267  -35.88   <2e-16 ***\n",
              "---\n",
              "Signif. codes:  0 ‘***’ 0.001 ‘**’ 0.01 ‘*’ 0.05 ‘.’ 0.1 ‘ ’ 1\n",
              "\n",
              "(Dispersion parameter for Gamma family taken to be 0.01655611)\n",
              "\n",
              "    Null deviance: 35.233  on 791  degrees of freedom\n",
              "Residual deviance: 13.432  on 790  degrees of freedom\n",
              "AIC: 1684.3\n",
              "\n",
              "Number of Fisher Scoring iterations: 4\n"
            ]
          },
          "metadata": {}
        }
      ],
      "source": [
        "glm_gam = glm(happiness_score ~ GDP, data = numeric_set, family=Gamma)\n",
        "summary(glm_gam)"
      ]
    },
    {
      "cell_type": "code",
      "source": [
        "#McFadden's R-Square\n",
        "print(\"McFadden's R-Square\")\n",
        "nullmodel <- glm(happiness_score~1, family=Gamma, data=numeric_set)\n",
        "1 - logLik(glm_gam)/logLik(nullmodel)\n",
        "pR2(glm_gam)['McFadden']"
      ],
      "metadata": {
        "colab": {
          "base_uri": "https://localhost:8080/",
          "height": 86
        },
        "id": "L8VzsRmQcNux",
        "outputId": "893f2605-a8be-4fce-c5c1-50e0403d7dc2"
      },
      "execution_count": 14,
      "outputs": [
        {
          "output_type": "stream",
          "name": "stdout",
          "text": [
            "[1] \"McFadden's R-Square\"\n"
          ]
        },
        {
          "output_type": "display_data",
          "data": {
            "text/plain": [
              "'log Lik.' 0.3137875 (df=3)"
            ]
          },
          "metadata": {}
        },
        {
          "output_type": "stream",
          "name": "stdout",
          "text": [
            "fitting null model for pseudo-r2\n"
          ]
        },
        {
          "output_type": "display_data",
          "data": {
            "text/html": [
              "<strong>McFadden:</strong> 0.313787530034568"
            ],
            "text/markdown": "**McFadden:** 0.313787530034568",
            "text/latex": "\\textbf{McFadden:} 0.313787530034568",
            "text/plain": [
              " McFadden \n",
              "0.3137875 "
            ]
          },
          "metadata": {}
        }
      ]
    },
    {
      "cell_type": "markdown",
      "metadata": {
        "id": "YA1TR8vBW6K1"
      },
      "source": [
        "### 3.2 Model Regression dari lm()"
      ]
    },
    {
      "cell_type": "code",
      "execution_count": null,
      "metadata": {
        "colab": {
          "base_uri": "https://localhost:8080/",
          "height": 329
        },
        "id": "9YN8RZ5-JvQj",
        "outputId": "766ad6fc-d41b-481b-9ec3-43f0a2a1e906"
      },
      "outputs": [
        {
          "output_type": "display_data",
          "data": {
            "text/plain": [
              "\n",
              "Call:\n",
              "lm(formula = happiness_score ~ GDP, data = numeric_set)\n",
              "\n",
              "Residuals:\n",
              "     Min       1Q   Median       3Q      Max \n",
              "-2.24384 -0.49760 -0.01234  0.53447  1.69126 \n",
              "\n",
              "Coefficients:\n",
              "            Estimate Std. Error t value Pr(>|t|)    \n",
              "(Intercept)  3.32424    0.06354   52.32   <2e-16 ***\n",
              "GDP          2.31277    0.06316   36.62   <2e-16 ***\n",
              "---\n",
              "Signif. codes:  0 ‘***’ 0.001 ‘**’ 0.01 ‘*’ 0.05 ‘.’ 0.1 ‘ ’ 1\n",
              "\n",
              "Residual standard error: 0.6852 on 790 degrees of freedom\n",
              "Multiple R-squared:  0.6293,\tAdjusted R-squared:  0.6288 \n",
              "F-statistic:  1341 on 1 and 790 DF,  p-value: < 2.2e-16\n"
            ]
          },
          "metadata": {}
        }
      ],
      "source": [
        "lm_model <- lm (happiness_score ~ GDP , data = numeric_set)\n",
        "summary (lm_model)"
      ]
    },
    {
      "cell_type": "code",
      "execution_count": null,
      "metadata": {
        "colab": {
          "base_uri": "https://localhost:8080/",
          "height": 178
        },
        "id": "TpNnM86A9Egv",
        "outputId": "39a78616-5dbd-4698-9526-af65ea784a79"
      },
      "outputs": [
        {
          "output_type": "display_data",
          "data": {
            "text/html": [
              "<table class=\"dataframe\">\n",
              "<caption>A anova: 2 × 5</caption>\n",
              "<thead>\n",
              "\t<tr><th></th><th scope=col>Df</th><th scope=col>Sum Sq</th><th scope=col>Mean Sq</th><th scope=col>F value</th><th scope=col>Pr(&gt;F)</th></tr>\n",
              "\t<tr><th></th><th scope=col>&lt;int&gt;</th><th scope=col>&lt;dbl&gt;</th><th scope=col>&lt;dbl&gt;</th><th scope=col>&lt;dbl&gt;</th><th scope=col>&lt;dbl&gt;</th></tr>\n",
              "</thead>\n",
              "<tbody>\n",
              "\t<tr><th scope=row>GDP</th><td>  1</td><td>629.6642</td><td>629.6642098</td><td>1340.947</td><td>2.136726e-172</td></tr>\n",
              "\t<tr><th scope=row>Residuals</th><td>790</td><td>370.9578</td><td>  0.4695668</td><td>      NA</td><td>           NA</td></tr>\n",
              "</tbody>\n",
              "</table>\n"
            ],
            "text/markdown": "\nA anova: 2 × 5\n\n| <!--/--> | Df &lt;int&gt; | Sum Sq &lt;dbl&gt; | Mean Sq &lt;dbl&gt; | F value &lt;dbl&gt; | Pr(&gt;F) &lt;dbl&gt; |\n|---|---|---|---|---|---|\n| GDP |   1 | 629.6642 | 629.6642098 | 1340.947 | 2.136726e-172 |\n| Residuals | 790 | 370.9578 |   0.4695668 |       NA |            NA |\n\n",
            "text/latex": "A anova: 2 × 5\n\\begin{tabular}{r|lllll}\n  & Df & Sum Sq & Mean Sq & F value & Pr(>F)\\\\\n  & <int> & <dbl> & <dbl> & <dbl> & <dbl>\\\\\n\\hline\n\tGDP &   1 & 629.6642 & 629.6642098 & 1340.947 & 2.136726e-172\\\\\n\tResiduals & 790 & 370.9578 &   0.4695668 &       NA &            NA\\\\\n\\end{tabular}\n",
            "text/plain": [
              "          Df  Sum Sq   Mean Sq     F value  Pr(>F)       \n",
              "GDP         1 629.6642 629.6642098 1340.947 2.136726e-172\n",
              "Residuals 790 370.9578   0.4695668       NA            NA"
            ]
          },
          "metadata": {}
        },
        {
          "output_type": "display_data",
          "data": {
            "text/html": [
              "<style>\n",
              ".list-inline {list-style: none; margin:0; padding: 0}\n",
              ".list-inline>li {display: inline-block}\n",
              ".list-inline>li:not(:last-child)::after {content: \"\\00b7\"; padding: 0 .5ex}\n",
              "</style>\n",
              "<ol class=list-inline><li>25.0931108037572</li><li>0.685249442763801</li></ol>\n"
            ],
            "text/markdown": "1. 25.0931108037572\n2. 0.685249442763801\n\n\n",
            "text/latex": "\\begin{enumerate*}\n\\item 25.0931108037572\n\\item 0.685249442763801\n\\end{enumerate*}\n",
            "text/plain": [
              "[1] 25.0931108  0.6852494"
            ]
          },
          "metadata": {}
        }
      ],
      "source": [
        "anova_model <- anova(lm_model)\n",
        "anova_model\n",
        "sqrt(anova_model$`Mean Sq`)"
      ]
    },
    {
      "cell_type": "markdown",
      "metadata": {
        "id": "zNKD00ez8Jmy"
      },
      "source": [
        "Menggunakan function anova lalu mendapatkan tabel anovanya. Bisa dilihat ada nilai Mean Square di baris residual, yaitu 0.4695668. Nilai mean square ini jika kita akarkan, maka hasilnya akan sama dengan residual standard error yg didapatkan dari function summary lm kita diatas."
      ]
    },
    {
      "cell_type": "code",
      "source": [
        "# Getting the R Square for linear model\n",
        "summary(lm_model)$r.squared"
      ],
      "metadata": {
        "colab": {
          "base_uri": "https://localhost:8080/",
          "height": 34
        },
        "id": "z2xpbi4D4-Kz",
        "outputId": "b9caf151-75b3-47c1-b743-8df3d2141e54"
      },
      "execution_count": null,
      "outputs": [
        {
          "output_type": "display_data",
          "data": {
            "text/html": [
              "0.629272814158454"
            ],
            "text/markdown": "0.629272814158454",
            "text/latex": "0.629272814158454",
            "text/plain": [
              "[1] 0.6292728"
            ]
          },
          "metadata": {}
        }
      ]
    },
    {
      "cell_type": "markdown",
      "metadata": {
        "id": "amlsYNo47u47"
      },
      "source": [
        "### 3.3 Model Regression dengan Robust Regression\n",
        "\n"
      ]
    },
    {
      "cell_type": "code",
      "execution_count": null,
      "metadata": {
        "colab": {
          "base_uri": "https://localhost:8080/",
          "height": 225
        },
        "id": "kMGSSSTu6x5f",
        "outputId": "c1ed3cfb-0575-4bae-ad3d-97ce2aeeb451"
      },
      "outputs": [
        {
          "output_type": "display_data",
          "data": {
            "text/plain": [
              "\n",
              "Call: rlm(formula = happiness_score ~ GDP, data = numeric_set)\n",
              "Residuals:\n",
              "     Min       1Q   Median       3Q      Max \n",
              "-2.25441 -0.50925 -0.02228  0.52550  1.68212 \n",
              "\n",
              "Coefficients:\n",
              "            Value   Std. Error t value\n",
              "(Intercept)  3.3173  0.0665    49.9029\n",
              "GDP          2.3296  0.0661    35.2561\n",
              "\n",
              "Residual standard error: 0.7617 on 790 degrees of freedom"
            ]
          },
          "metadata": {}
        }
      ],
      "source": [
        "mod_rlm <- rlm(happiness_score ~ GDP, data = numeric_set)\n",
        "summary(mod_rlm)"
      ]
    },
    {
      "cell_type": "code",
      "source": [
        "# Perbandingan Residual Standard Error\n",
        "summary(lm_model)$sigma\n",
        "summary(mod_rlm)$sigma"
      ],
      "metadata": {
        "colab": {
          "base_uri": "https://localhost:8080/",
          "height": 52
        },
        "id": "luL9zjvgk7uL",
        "outputId": "157edb49-3cd6-4267-f864-95732f1d75ad"
      },
      "execution_count": null,
      "outputs": [
        {
          "output_type": "display_data",
          "data": {
            "text/html": [
              "0.685249442763801"
            ],
            "text/markdown": "0.685249442763801",
            "text/latex": "0.685249442763801",
            "text/plain": [
              "[1] 0.6852494"
            ]
          },
          "metadata": {}
        },
        {
          "output_type": "display_data",
          "data": {
            "text/html": [
              "0.761741652454024"
            ],
            "text/markdown": "0.761741652454024",
            "text/latex": "0.761741652454024",
            "text/plain": [
              "[1] 0.7617417"
            ]
          },
          "metadata": {}
        }
      ]
    },
    {
      "cell_type": "markdown",
      "metadata": {
        "id": "-QhN8c74Jcd4"
      },
      "source": [
        "## 4. Measurement"
      ]
    },
    {
      "cell_type": "markdown",
      "metadata": {
        "id": "cMBil2QIRh-i"
      },
      "source": [
        "#### 4.1.1 Coefficient of Determination (R-Squared)"
      ]
    },
    {
      "cell_type": "code",
      "execution_count": null,
      "metadata": {
        "colab": {
          "base_uri": "https://localhost:8080/",
          "height": 34
        },
        "id": "lyYPWmisJeq_",
        "outputId": "d47c1922-6e2c-4056-fb1a-3f66f27c4209"
      },
      "outputs": [
        {
          "output_type": "display_data",
          "data": {
            "text/html": [
              "0.698315832146163"
            ],
            "text/markdown": "0.698315832146163",
            "text/latex": "0.698315832146163",
            "text/plain": [
              "[1] 0.6983158"
            ]
          },
          "metadata": {}
        }
      ],
      "source": [
        "summary(mainmodel)$r.squared"
      ]
    },
    {
      "cell_type": "markdown",
      "metadata": {
        "id": "KlSzDkCGdkt1"
      },
      "source": [
        "#### 4.1.2 F-Test"
      ]
    },
    {
      "cell_type": "code",
      "execution_count": null,
      "metadata": {
        "colab": {
          "base_uri": "https://localhost:8080/",
          "height": 208
        },
        "id": "dv9xayQgdji-",
        "outputId": "7e036e11-2d30-46b7-b3f5-e91e027d8f9a"
      },
      "outputs": [
        {
          "output_type": "display_data",
          "data": {
            "text/plain": [
              "\n",
              "\tF test to compare two variances\n",
              "\n",
              "data:  numeric_set$GDP and numeric_set$happiness_score\n",
              "F = 0.11764, num df = 791, denom df = 791, p-value < 2.2e-16\n",
              "alternative hypothesis: true ratio of variances is not equal to 1\n",
              "95 percent confidence interval:\n",
              " 0.1023289 0.1352529\n",
              "sample estimates:\n",
              "ratio of variances \n",
              "         0.1176447 \n"
            ]
          },
          "metadata": {}
        }
      ],
      "source": [
        "var.test(numeric_set$GDP, numeric_set$happiness_score)"
      ]
    },
    {
      "cell_type": "markdown",
      "metadata": {
        "id": "2KhwA1q3uhne"
      },
      "source": [
        "#### 4.1.3 RMSE"
      ]
    },
    {
      "cell_type": "code",
      "execution_count": null,
      "metadata": {
        "colab": {
          "base_uri": "https://localhost:8080/",
          "height": 34
        },
        "id": "HBtAfzlcveiS",
        "outputId": "5f12f202-7da5-4487-fa81-93d0f5e1abba"
      },
      "outputs": [
        {
          "output_type": "display_data",
          "data": {
            "text/html": [
              "0.617374501247782"
            ],
            "text/markdown": "0.617374501247782",
            "text/latex": "0.617374501247782",
            "text/plain": [
              "[1] 0.6173745"
            ]
          },
          "metadata": {}
        }
      ],
      "source": [
        "sqrt(mean(mainmodel$residuals^2))"
      ]
    },
    {
      "cell_type": "markdown",
      "metadata": {
        "id": "EwhbFBNuxD4P"
      },
      "source": [
        "#### 4.1.4 Mean Square Error"
      ]
    },
    {
      "cell_type": "code",
      "execution_count": null,
      "metadata": {
        "colab": {
          "base_uri": "https://localhost:8080/",
          "height": 34
        },
        "id": "e9-VF8c0xLoR",
        "outputId": "2eedd90a-9d3a-4bf0-a8d1-55b754856e0d"
      },
      "outputs": [
        {
          "output_type": "display_data",
          "data": {
            "text/html": [
              "0.381151274790948"
            ],
            "text/markdown": "0.381151274790948",
            "text/latex": "0.381151274790948",
            "text/plain": [
              "[1] 0.3811513"
            ]
          },
          "metadata": {}
        }
      ],
      "source": [
        "# Mean Square Error dari lm()\n",
        "mean(mainmodel$residuals^2)"
      ]
    },
    {
      "cell_type": "markdown",
      "metadata": {
        "id": "8oQF_oJ70aEC"
      },
      "source": [
        "#### 4.1.5 Mean Absolute Error (MAE)"
      ]
    },
    {
      "cell_type": "code",
      "execution_count": null,
      "metadata": {
        "colab": {
          "base_uri": "https://localhost:8080/",
          "height": 34
        },
        "id": "_3w1zgna1nHi",
        "outputId": "08492f87-075e-4ca3-e090-10c4ad0c34f2"
      },
      "outputs": [
        {
          "output_type": "display_data",
          "data": {
            "text/html": [
              "0.497106902948766"
            ],
            "text/markdown": "0.497106902948766",
            "text/latex": "0.497106902948766",
            "text/plain": [
              "[1] 0.4971069"
            ]
          },
          "metadata": {}
        }
      ],
      "source": [
        "# Mean Absolute Error menggunakan mae\n",
        "mae(numeric_set$happiness_score, predict(mainmodel))"
      ]
    },
    {
      "cell_type": "markdown",
      "metadata": {
        "id": "UuWS73snJfL1"
      },
      "source": [
        "## 5. Analysis"
      ]
    },
    {
      "cell_type": "markdown",
      "source": [
        "### 5.1 Model Regression dengan Logistic Regression"
      ],
      "metadata": {
        "id": "ZGu29AGYXcjy"
      }
    },
    {
      "cell_type": "markdown",
      "metadata": {
        "id": "mjMyoqwPRAe0"
      },
      "source": [
        "Logistic Regression adalah sebuah algoritma klasifikasi untuk mencari hubungan antara fitur (input) diskrit/kontinu dengan probabilitas hasil output diskrit tertentu dan membentuk model regresi dengan 2 respons (0 dan 1). Pada regresi ini pembentukan model didasarkan oleh kurva logistik, dimana melalui kurva tersebut nilai yang dihasilkan akan memiliki rentang dari 0 sampai 1. Karena model yang dibuat bertujuan untuk memprediksi dua buah kemungkinan (0 atau 1), maka diperlukan suatu nilai ambang (y<0,5 = 0 dan y >= 0,5 = 1).\n",
        "\n",
        "\n",
        "Disini kita menggunakan fungsi glm():\n",
        "\n",
        "glm_gaus <- glm(formula = happiness_score ~  GDP, data = numeric_set, family = gaussian)"
      ]
    },
    {
      "cell_type": "markdown",
      "metadata": {
        "id": "-NAjQYw3esFq"
      },
      "source": [
        "### 5.2 Model Regression dengan Linear Regression"
      ]
    },
    {
      "cell_type": "markdown",
      "metadata": {
        "id": "FY6XT9oPe8LC"
      },
      "source": [
        "Model linear merupakan pemodelan khusus pada model dengan ciri linear dalam parameter. Dalam analisis pada nomor tiga kami menggunakan beberapa bentuk umum dari model-model seperti model regresi dan model anova.\n",
        "\n",
        "Anova sendiri merupakan (Analysis of Variance) yang memerlukan prasyarat varibel prediktor merupakan variabel tetap dan variabel respon terdiri dari variabel random."
      ]
    },
    {
      "cell_type": "markdown",
      "source": [
        "### 5.3 Model Regression dengan Robust Regression"
      ],
      "metadata": {
        "id": "GkWHHAdzX476"
      }
    },
    {
      "cell_type": "markdown",
      "source": [
        "Metode yang dapat kita gunakan sebagai alternatif untuk regresi kuadrat terkecil biasa ketika ada outlier atau observasi berpengaruh dalam kumpulan data yang sedang kita kerjakan.\n",
        "\n",
        "Untuk menggunakan robust regression in R, kita gunakan rlm() function dari MASS package.\n",
        "Disini kita gunakan :\n",
        "\n",
        "mod_rlm <- rlm(happiness_score ~ GDP, data = numeric_set)\n",
        "\n",
        "Untuk menentukan apakah model regresi  ini menawarkan kecocokan yang lebih baik dengan data dibandingkan dengan model OLS (Ordinary Least Squares), kita dapat menghitung kesalahan standar residual dari masing-masing model."
      ],
      "metadata": {
        "id": "TMTqk93CYF18"
      }
    },
    {
      "cell_type": "markdown",
      "source": [
        "## 6. Discussion"
      ],
      "metadata": {
        "id": "x8BLue3CY5ZD"
      }
    },
    {
      "cell_type": "markdown",
      "source": [
        "### 6.1 Linear Regression vs Logistic Regression"
      ],
      "metadata": {
        "id": "4iXn0An8Y8HL"
      }
    },
    {
      "cell_type": "markdown",
      "source": [
        "Jika dibandingkan antara linear regression dan logistic regression yang menggunakan family 'gaussian', ditemukan bahwa hasil coefficient diantara keduanya adalah sama persis, sehingga bisa disimpulkan bahwa keduanya itu sama jika menggunakan family gaussian untuk logistic regression.\n",
        "\n",
        "Tetapi ketika mengubah family dari logistic regression menjadi \"Gamma\", terlihat ada sebuah perbedaan. Membanding R Squared keduanya, R squared dari linear regression lebih besar dibanding McFadden's milik logistic, sehingga linear bisa dihitung lebih baik untuk digunakan dalam regressi."
      ],
      "metadata": {
        "id": "DcsEVpKBZmFL"
      }
    },
    {
      "cell_type": "markdown",
      "source": [
        "### 6.2 Linear Regression vs Robust Regression"
      ],
      "metadata": {
        "id": "CC1V32CPZCRn"
      }
    },
    {
      "cell_type": "markdown",
      "source": [
        "Terlihat bahwa ada perbedaan nilai intercept dari regresi linear dengan regresi robust. Lalu kita cek pula dari residual standard error dari kedua regresi model. Terlihat bahwa RSE milik linear model lebih kecil dibandingkan dengan Robust regression sehingga dapat disimpulkan linear regression bersifat lebih cocok untuk dijadikan model dengan menggunakan data ini.\n",
        "\n",
        "Menurut kami, hal ini terjadi karena robust regression lebih bersifat baik jika terdapat outlier di dalam data. Sedangkan data kami dengan menggunakan test outlier yang sebelumnya, menunjukkan jumlah yang kecil, bahkan hampir tidak ada outlier."
      ],
      "metadata": {
        "id": "LMxHXYSBZlqH"
      }
    }
  ],
  "metadata": {
    "colab": {
      "provenance": []
    },
    "gpuClass": "standard",
    "kernelspec": {
      "display_name": "R",
      "name": "ir"
    },
    "language_info": {
      "name": "R"
    }
  },
  "nbformat": 4,
  "nbformat_minor": 0
}